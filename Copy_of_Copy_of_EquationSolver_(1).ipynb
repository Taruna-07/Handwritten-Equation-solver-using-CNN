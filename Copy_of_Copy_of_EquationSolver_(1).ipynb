{
  "nbformat": 4,
  "nbformat_minor": 0,
  "metadata": {
    "kernelspec": {
      "display_name": "Python 3",
      "language": "python",
      "name": "python3"
    },
    "language_info": {
      "codemirror_mode": {
        "name": "ipython",
        "version": 3
      },
      "file_extension": ".py",
      "mimetype": "text/x-python",
      "name": "python",
      "nbconvert_exporter": "python",
      "pygments_lexer": "ipython3",
      "version": "3.7.6"
    },
    "colab": {
      "name": "Copy of Copy of EquationSolver (1).ipynb",
      "provenance": [],
      "include_colab_link": true
    }
  },
  "cells": [
    {
      "cell_type": "markdown",
      "metadata": {
        "id": "view-in-github",
        "colab_type": "text"
      },
      "source": [
        "<a href=\"https://colab.research.google.com/github/Taruna-07/drone/blob/master/Copy_of_Copy_of_EquationSolver_(1).ipynb\" target=\"_parent\"><img src=\"https://colab.research.google.com/assets/colab-badge.svg\" alt=\"Open In Colab\"/></a>"
      ]
    },
    {
      "cell_type": "code",
      "metadata": {
        "id": "-3v7SWOptx3Y"
      },
      "source": [
        "# Importing Libraries\n",
        "import numpy as np\n",
        "import pandas as pd\n",
        "import matplotlib.pyplot as ply\n",
        "import cv2\n",
        "import os\n",
        "from os import listdir\n",
        "from os.path import isfile,join\n",
        "from PIL import Image"
      ],
      "execution_count": null,
      "outputs": []
    },
    {
      "cell_type": "code",
      "metadata": {
        "id": "ZEJnDCp-tx3j"
      },
      "source": [
        "# Creating function to load image\n",
        "def load_images_from_folder(folder):\n",
        "    train_data=[]\n",
        "    for filename in os.listdir(folder):\n",
        "        img=cv2.imread(os.path.join(folder,filename),cv2.IMREAD_GRAYSCALE)\n",
        "        img=~img\n",
        "        if img is not None:\n",
        "            _,thresh=cv2.threshold(img,127,255,cv2.THRESH_BINARY)\n",
        "            ctrs,_=cv2.findContours(thresh,cv2.RETR_EXTERNAL,cv2.CHAIN_APPROX_NONE)\n",
        "            cnt=sorted(ctrs,key=lambda ctr:cv2.boundingRect(ctr)[0])\n",
        "            w=int(28)\n",
        "            h=int(28)\n",
        "            maxi=0\n",
        "            for c in cnt:\n",
        "                x,y,w,h=cv2.boundingRect(c)\n",
        "                maxi=max(w*h,maxi)\n",
        "                if maxi==w*h:\n",
        "                    x_max=x\n",
        "                    y_max=y\n",
        "                    h_max=h\n",
        "                    w_max=w\n",
        "            im_crop=thresh[y_max:y_max+h_max+10,x_max:x_max+w_max+10]\n",
        "            im_resize=cv2.resize(im_crop,(28,28))\n",
        "            im_resize=np.reshape(im_resize,(784,1))\n",
        "            \n",
        "            train_data.append(im_resize)\n",
        "        return train_data"
      ],
      "execution_count": null,
      "outputs": []
    },
    {
      "cell_type": "code",
      "metadata": {
        "id": "TVp3Wa9Ztx4P"
      },
      "source": [
        "# Loading the Dataset\n",
        "data=[]"
      ],
      "execution_count": null,
      "outputs": []
    },
    {
      "cell_type": "code",
      "metadata": {
        "colab": {
          "base_uri": "https://localhost:8080/"
        },
        "id": "jD6CF2aIZ95z",
        "outputId": "d49a8c9a-c5a5-4621-f4a7-c5cb534a2401"
      },
      "source": [
        "from google.colab import drive\n",
        "drive.mount('/content/drive')"
      ],
      "execution_count": 1,
      "outputs": [
        {
          "output_type": "stream",
          "text": [
            "Mounted at /content/drive\n"
          ],
          "name": "stdout"
        }
      ]
    },
    {
      "cell_type": "code",
      "metadata": {
        "id": "9IENjy5ZwD-J",
        "colab": {
          "base_uri": "https://localhost:8080/"
        },
        "outputId": "6ce34e42-acdd-45b4-be8d-ff5ce40810ed"
      },
      "source": [
        "!ls \"/content/drive/MyDrive/Colab Notebooks/Math Symbols/extracted_images/-\""
      ],
      "execution_count": null,
      "outputs": [
        {
          "output_type": "stream",
          "text": [
            "ls: cannot access '/content/drive/MyDrive/Colab Notebooks/Math Symbols/extracted_images/-': No such file or directory\n"
          ],
          "name": "stdout"
        }
      ]
    },
    {
      "cell_type": "code",
      "metadata": {
        "colab": {
          "resources": {
            "http://localhost:8080/nbextensions/google.colab/files.js": {
              "data": "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",
              "ok": true,
              "headers": [
                [
                  "content-type",
                  "application/javascript"
                ]
              ],
              "status": 200,
              "status_text": ""
            }
          },
          "base_uri": "https://localhost:8080/",
          "height": 1000
        },
        "id": "DNdqYq8vtx4P",
        "outputId": "20cbb431-e7cb-4565-e3f4-ad22f6928528"
      },
      "source": [
        "# assign \".\"-10\n",
        "\n",
        "# Run this cell and select the file to be uploaded\n",
        "\n",
        "from google.colab import files\n",
        "\n",
        "uploaded = files.upload()\n",
        "\n",
        "for fn in uploaded.keys():\n",
        "  print('User uploaded file \"{name}\" with length {length} bytes'.format(\n",
        "      name=fn, length=len(uploaded[fn])))"
      ],
      "execution_count": null,
      "outputs": [
        {
          "output_type": "display_data",
          "data": {
            "text/html": [
              "\n",
              "     <input type=\"file\" id=\"files-d01ffff2-020d-4c0b-8696-464224256682\" name=\"files[]\" multiple disabled\n",
              "        style=\"border:none\" />\n",
              "     <output id=\"result-d01ffff2-020d-4c0b-8696-464224256682\">\n",
              "      Upload widget is only available when the cell has been executed in the\n",
              "      current browser session. Please rerun this cell to enable.\n",
              "      </output>\n",
              "      <script src=\"/nbextensions/google.colab/files.js\"></script> "
            ],
            "text/plain": [
              "<IPython.core.display.HTML object>"
            ]
          },
          "metadata": {
            "tags": []
          }
        },
        {
          "output_type": "stream",
          "text": [
            "Saving -_66.jpg to -_66 (1).jpg\n",
            "Saving -_88.jpg to -_88 (1).jpg\n",
            "Saving -_89.jpg to -_89 (1).jpg\n",
            "Saving -_92.jpg to -_92 (1).jpg\n",
            "Saving -_121.jpg to -_121 (1).jpg\n",
            "Saving -_145.jpg to -_145 (1).jpg\n",
            "Saving -_152.jpg to -_152 (1).jpg\n",
            "Saving -_165.jpg to -_165 (1).jpg\n",
            "Saving -_180.jpg to -_180 (1).jpg\n",
            "Saving -_188.jpg to -_188 (1).jpg\n",
            "Saving -_192.jpg to -_192 (1).jpg\n",
            "Saving -_217.jpg to -_217 (1).jpg\n",
            "Saving 0_46621.jpg to 0_46621.jpg\n",
            "Saving 0_46812.jpg to 0_46812.jpg\n",
            "Saving 0_46852.jpg to 0_46852.jpg\n",
            "Saving 0_46853.jpg to 0_46853.jpg\n",
            "Saving 0_46859.jpg to 0_46859.jpg\n",
            "Saving 0_46861.jpg to 0_46861.jpg\n",
            "Saving 0_46910.jpg to 0_46910.jpg\n",
            "Saving 0_46924.jpg to 0_46924.jpg\n",
            "Saving 0_46968.jpg to 0_46968.jpg\n",
            "Saving 0_47024.jpg to 0_47024.jpg\n",
            "Saving 0_47065.jpg to 0_47065.jpg\n",
            "Saving 0_47068.jpg to 0_47068.jpg\n",
            "Saving 1_2.jpg to 1_2.jpg\n",
            "Saving 1_5.jpg to 1_5.jpg\n",
            "Saving 1_9.jpg to 1_9.jpg\n",
            "Saving 1_14.jpg to 1_14.jpg\n",
            "Saving 1_35.jpg to 1_35.jpg\n",
            "Saving 1_39.jpg to 1_39.jpg\n",
            "Saving 1_45.jpg to 1_45.jpg\n",
            "Saving 1_47.jpg to 1_47.jpg\n",
            "Saving 1_53.jpg to 1_53.jpg\n",
            "Saving 1_57.jpg to 1_57.jpg\n",
            "Saving 1_79.jpg to 1_79.jpg\n",
            "Saving 1_171.jpg to 1_171.jpg\n",
            "Saving 2_25.jpg to 2_25.jpg\n",
            "Saving 2_54.jpg to 2_54.jpg\n",
            "Saving 2_59.jpg to 2_59.jpg\n",
            "Saving 2_61.jpg to 2_61.jpg\n",
            "Saving 2_65.jpg to 2_65.jpg\n",
            "Saving 2_95.jpg to 2_95.jpg\n",
            "Saving 2_101.jpg to 2_101.jpg\n",
            "Saving 2_104.jpg to 2_104.jpg\n",
            "Saving 2_112.jpg to 2_112.jpg\n",
            "Saving 2_114.jpg to 2_114.jpg\n",
            "Saving 2_135.jpg to 2_135.jpg\n",
            "Saving 2_138.jpg to 2_138.jpg\n",
            "Saving 3_40.jpg to 3_40.jpg\n",
            "Saving 3_67.jpg to 3_67.jpg\n",
            "Saving 3_91.jpg to 3_91.jpg\n",
            "Saving 3_108.jpg to 3_108.jpg\n",
            "Saving 3_118.jpg to 3_118.jpg\n",
            "Saving 3_123.jpg to 3_123.jpg\n",
            "Saving 3_125.jpg to 3_125.jpg\n",
            "Saving 3_210.jpg to 3_210.jpg\n",
            "Saving 3_226.jpg to 3_226.jpg\n",
            "Saving 3_278.jpg to 3_278.jpg\n",
            "Saving 3_283.jpg to 3_283.jpg\n",
            "Saving 3_324.jpg to 3_324.jpg\n",
            "Saving 4_48.jpg to 4_48.jpg\n",
            "Saving 4_144.jpg to 4_144.jpg\n",
            "Saving 4_146.jpg to 4_146.jpg\n",
            "Saving 4_147.jpg to 4_147.jpg\n",
            "Saving 4_155.jpg to 4_155.jpg\n",
            "Saving 4_209.jpg to 4_209.jpg\n",
            "Saving 4_241.jpg to 4_241.jpg\n",
            "Saving 4_383.jpg to 4_383.jpg\n",
            "Saving 4_417.jpg to 4_417.jpg\n",
            "Saving 4_427.jpg to 4_427.jpg\n",
            "Saving 4_453.jpg to 4_453.jpg\n",
            "Saving 4_455.jpg to 4_455.jpg\n",
            "Saving 5_56.jpg to 5_56.jpg\n",
            "Saving 5_206.jpg to 5_206.jpg\n",
            "Saving 5_218.jpg to 5_218.jpg\n",
            "Saving 5_224.jpg to 5_224.jpg\n",
            "Saving 5_237.jpg to 5_237.jpg\n",
            "Saving 5_316.jpg to 5_316.jpg\n",
            "Saving 5_331.jpg to 5_331.jpg\n",
            "Saving 5_366.jpg to 5_366.jpg\n",
            "Saving 5_400.jpg to 5_400.jpg\n",
            "Saving 5_401.jpg to 5_401.jpg\n",
            "Saving 5_516.jpg to 5_516.jpg\n",
            "Saving 5_526.jpg to 5_526.jpg\n",
            "Saving 6_32.jpg to 6_32.jpg\n",
            "Saving 6_41.jpg to 6_41.jpg\n",
            "Saving 6_52.jpg to 6_52.jpg\n",
            "Saving 6_150.jpg to 6_150.jpg\n",
            "Saving 6_154.jpg to 6_154.jpg\n",
            "Saving 6_158.jpg to 6_158.jpg\n",
            "Saving 6_160.jpg to 6_160.jpg\n",
            "Saving 6_318.jpg to 6_318.jpg\n",
            "Saving 6_360.jpg to 6_360.jpg\n",
            "Saving 6_363.jpg to 6_363.jpg\n",
            "Saving 6_414.jpg to 6_414.jpg\n",
            "Saving 6_488.jpg to 6_488.jpg\n",
            "Saving 7_36.jpg to 7_36.jpg\n",
            "Saving 7_37.jpg to 7_37.jpg\n",
            "Saving 7_46.jpg to 7_46.jpg\n",
            "Saving 7_212.jpg to 7_212.jpg\n",
            "Saving 7_225.jpg to 7_225.jpg\n",
            "Saving 7_235.jpg to 7_235.jpg\n",
            "Saving 7_240.jpg to 7_240.jpg\n",
            "Saving 7_277.jpg to 7_277.jpg\n",
            "Saving 7_315.jpg to 7_315.jpg\n",
            "Saving 7_413.jpg to 7_413.jpg\n",
            "Saving 7_465.jpg to 7_465.jpg\n",
            "Saving 7_531.jpg to 7_531.jpg\n",
            "Saving 8_236.jpg to 8_236.jpg\n",
            "Saving 8_362.jpg to 8_362.jpg\n",
            "Saving 8_394.jpg to 8_394.jpg\n",
            "Saving 8_397.jpg to 8_397.jpg\n",
            "Saving 8_422.jpg to 8_422.jpg\n",
            "Saving 8_461.jpg to 8_461.jpg\n",
            "Saving 8_492.jpg to 8_492.jpg\n",
            "Saving 8_493.jpg to 8_493.jpg\n",
            "Saving 8_510.jpg to 8_510.jpg\n",
            "Saving 8_542.jpg to 8_542.jpg\n",
            "Saving 8_560.jpg to 8_560.jpg\n",
            "Saving 8_573.jpg to 8_573.jpg\n",
            "Saving 9_33.jpg to 9_33.jpg\n",
            "Saving 9_157.jpg to 9_157.jpg\n",
            "Saving 9_166.jpg to 9_166.jpg\n",
            "Saving 9_167.jpg to 9_167.jpg\n",
            "Saving 9_211.jpg to 9_211.jpg\n",
            "Saving 9_327.jpg to 9_327.jpg\n",
            "Saving 9_482.jpg to 9_482.jpg\n",
            "Saving 9_489.jpg to 9_489.jpg\n",
            "Saving 9_509.jpg to 9_509.jpg\n",
            "Saving 9_570.jpg to 9_570.jpg\n",
            "Saving 9_574.jpg to 9_574.jpg\n",
            "Saving 9_575.jpg to 9_575.jpg\n",
            "Saving exp1.jpg to exp1.jpg\n",
            "Saving exp34.jpg to exp34.jpg\n",
            "Saving exp36.jpg to exp36.jpg\n",
            "Saving exp38.jpg to exp38.jpg\n",
            "Saving exp129.jpg to exp129.jpg\n",
            "Saving exp140.jpg to exp140.jpg\n",
            "Saving exp210.jpg to exp210.jpg\n",
            "Saving exp220.jpg to exp220.jpg\n",
            "Saving exp238.jpg to exp238.jpg\n",
            "Saving exp283.jpg to exp283.jpg\n",
            "Saving exp286.jpg to exp286.jpg\n",
            "Saving exp298.jpg to exp298.jpg\n",
            "Saving exp12345.jpg to exp12345.jpg\n",
            "Saving exp12347.jpg to exp12347.jpg\n",
            "Saving exp12348.jpg to exp12348.jpg\n",
            "Saving exp12350.jpg to exp12350.jpg\n",
            "Saving exp12352.jpg to exp12352.jpg\n",
            "Saving exp12355.jpg to exp12355.jpg\n",
            "Saving exp12357.jpg to exp12357.jpg\n",
            "Saving exp12360.jpg to exp12360.jpg\n",
            "Saving exp12363.jpg to exp12363.jpg\n",
            "Saving exp12365.jpg to exp12365.jpg\n",
            "Saving exp12366.jpg to exp12366.jpg\n",
            "Saving exp12368.jpg to exp12368.jpg\n",
            "User uploaded file \"-_66.jpg\" with length 692 bytes\n",
            "User uploaded file \"-_88.jpg\" with length 514 bytes\n",
            "User uploaded file \"-_89.jpg\" with length 600 bytes\n",
            "User uploaded file \"-_92.jpg\" with length 591 bytes\n",
            "User uploaded file \"-_121.jpg\" with length 570 bytes\n",
            "User uploaded file \"-_145.jpg\" with length 768 bytes\n",
            "User uploaded file \"-_152.jpg\" with length 648 bytes\n",
            "User uploaded file \"-_165.jpg\" with length 656 bytes\n",
            "User uploaded file \"-_180.jpg\" with length 728 bytes\n",
            "User uploaded file \"-_188.jpg\" with length 776 bytes\n",
            "User uploaded file \"-_192.jpg\" with length 699 bytes\n",
            "User uploaded file \"-_217.jpg\" with length 694 bytes\n",
            "User uploaded file \"0_46621.jpg\" with length 1426 bytes\n",
            "User uploaded file \"0_46812.jpg\" with length 1684 bytes\n",
            "User uploaded file \"0_46852.jpg\" with length 1498 bytes\n",
            "User uploaded file \"0_46853.jpg\" with length 1543 bytes\n",
            "User uploaded file \"0_46859.jpg\" with length 1507 bytes\n",
            "User uploaded file \"0_46861.jpg\" with length 1440 bytes\n",
            "User uploaded file \"0_46910.jpg\" with length 1569 bytes\n",
            "User uploaded file \"0_46924.jpg\" with length 1543 bytes\n",
            "User uploaded file \"0_46968.jpg\" with length 1455 bytes\n",
            "User uploaded file \"0_47024.jpg\" with length 1602 bytes\n",
            "User uploaded file \"0_47065.jpg\" with length 1528 bytes\n",
            "User uploaded file \"0_47068.jpg\" with length 1361 bytes\n",
            "User uploaded file \"1_2.jpg\" with length 608 bytes\n",
            "User uploaded file \"1_5.jpg\" with length 702 bytes\n",
            "User uploaded file \"1_9.jpg\" with length 693 bytes\n",
            "User uploaded file \"1_14.jpg\" with length 832 bytes\n",
            "User uploaded file \"1_35.jpg\" with length 1149 bytes\n",
            "User uploaded file \"1_39.jpg\" with length 634 bytes\n",
            "User uploaded file \"1_45.jpg\" with length 1314 bytes\n",
            "User uploaded file \"1_47.jpg\" with length 1132 bytes\n",
            "User uploaded file \"1_53.jpg\" with length 741 bytes\n",
            "User uploaded file \"1_57.jpg\" with length 1346 bytes\n",
            "User uploaded file \"1_79.jpg\" with length 875 bytes\n",
            "User uploaded file \"1_171.jpg\" with length 735 bytes\n",
            "User uploaded file \"2_25.jpg\" with length 1032 bytes\n",
            "User uploaded file \"2_54.jpg\" with length 1250 bytes\n",
            "User uploaded file \"2_59.jpg\" with length 786 bytes\n",
            "User uploaded file \"2_61.jpg\" with length 1201 bytes\n",
            "User uploaded file \"2_65.jpg\" with length 795 bytes\n",
            "User uploaded file \"2_95.jpg\" with length 923 bytes\n",
            "User uploaded file \"2_101.jpg\" with length 940 bytes\n",
            "User uploaded file \"2_104.jpg\" with length 947 bytes\n",
            "User uploaded file \"2_112.jpg\" with length 995 bytes\n",
            "User uploaded file \"2_114.jpg\" with length 788 bytes\n",
            "User uploaded file \"2_135.jpg\" with length 876 bytes\n",
            "User uploaded file \"2_138.jpg\" with length 1096 bytes\n",
            "User uploaded file \"3_40.jpg\" with length 1248 bytes\n",
            "User uploaded file \"3_67.jpg\" with length 1242 bytes\n",
            "User uploaded file \"3_91.jpg\" with length 1439 bytes\n",
            "User uploaded file \"3_108.jpg\" with length 1166 bytes\n",
            "User uploaded file \"3_118.jpg\" with length 1276 bytes\n",
            "User uploaded file \"3_123.jpg\" with length 1318 bytes\n",
            "User uploaded file \"3_125.jpg\" with length 1387 bytes\n",
            "User uploaded file \"3_210.jpg\" with length 1405 bytes\n",
            "User uploaded file \"3_226.jpg\" with length 1335 bytes\n",
            "User uploaded file \"3_278.jpg\" with length 1322 bytes\n",
            "User uploaded file \"3_283.jpg\" with length 1395 bytes\n",
            "User uploaded file \"3_324.jpg\" with length 1381 bytes\n",
            "User uploaded file \"4_48.jpg\" with length 1175 bytes\n",
            "User uploaded file \"4_144.jpg\" with length 989 bytes\n",
            "User uploaded file \"4_146.jpg\" with length 1094 bytes\n",
            "User uploaded file \"4_147.jpg\" with length 1153 bytes\n",
            "User uploaded file \"4_155.jpg\" with length 1038 bytes\n",
            "User uploaded file \"4_209.jpg\" with length 1102 bytes\n",
            "User uploaded file \"4_241.jpg\" with length 902 bytes\n",
            "User uploaded file \"4_383.jpg\" with length 1053 bytes\n",
            "User uploaded file \"4_417.jpg\" with length 952 bytes\n",
            "User uploaded file \"4_427.jpg\" with length 1098 bytes\n",
            "User uploaded file \"4_453.jpg\" with length 871 bytes\n",
            "User uploaded file \"4_455.jpg\" with length 1016 bytes\n",
            "User uploaded file \"5_56.jpg\" with length 1194 bytes\n",
            "User uploaded file \"5_206.jpg\" with length 1386 bytes\n",
            "User uploaded file \"5_218.jpg\" with length 1346 bytes\n",
            "User uploaded file \"5_224.jpg\" with length 1264 bytes\n",
            "User uploaded file \"5_237.jpg\" with length 1421 bytes\n",
            "User uploaded file \"5_316.jpg\" with length 1343 bytes\n",
            "User uploaded file \"5_331.jpg\" with length 1536 bytes\n",
            "User uploaded file \"5_366.jpg\" with length 1430 bytes\n",
            "User uploaded file \"5_400.jpg\" with length 1394 bytes\n",
            "User uploaded file \"5_401.jpg\" with length 1280 bytes\n",
            "User uploaded file \"5_516.jpg\" with length 1401 bytes\n",
            "User uploaded file \"5_526.jpg\" with length 1262 bytes\n",
            "User uploaded file \"6_32.jpg\" with length 1192 bytes\n",
            "User uploaded file \"6_41.jpg\" with length 1350 bytes\n",
            "User uploaded file \"6_52.jpg\" with length 1473 bytes\n",
            "User uploaded file \"6_150.jpg\" with length 1186 bytes\n",
            "User uploaded file \"6_154.jpg\" with length 1112 bytes\n",
            "User uploaded file \"6_158.jpg\" with length 1243 bytes\n",
            "User uploaded file \"6_160.jpg\" with length 1279 bytes\n",
            "User uploaded file \"6_318.jpg\" with length 1244 bytes\n",
            "User uploaded file \"6_360.jpg\" with length 1163 bytes\n",
            "User uploaded file \"6_363.jpg\" with length 1313 bytes\n",
            "User uploaded file \"6_414.jpg\" with length 1212 bytes\n",
            "User uploaded file \"6_488.jpg\" with length 1115 bytes\n",
            "User uploaded file \"7_36.jpg\" with length 1044 bytes\n",
            "User uploaded file \"7_37.jpg\" with length 913 bytes\n",
            "User uploaded file \"7_46.jpg\" with length 1205 bytes\n",
            "User uploaded file \"7_212.jpg\" with length 1330 bytes\n",
            "User uploaded file \"7_225.jpg\" with length 1069 bytes\n",
            "User uploaded file \"7_235.jpg\" with length 1188 bytes\n",
            "User uploaded file \"7_240.jpg\" with length 1124 bytes\n",
            "User uploaded file \"7_277.jpg\" with length 1023 bytes\n",
            "User uploaded file \"7_315.jpg\" with length 1256 bytes\n",
            "User uploaded file \"7_413.jpg\" with length 1140 bytes\n",
            "User uploaded file \"7_465.jpg\" with length 1193 bytes\n",
            "User uploaded file \"7_531.jpg\" with length 1213 bytes\n",
            "User uploaded file \"8_236.jpg\" with length 1427 bytes\n",
            "User uploaded file \"8_362.jpg\" with length 1560 bytes\n",
            "User uploaded file \"8_394.jpg\" with length 1301 bytes\n",
            "User uploaded file \"8_397.jpg\" with length 1443 bytes\n",
            "User uploaded file \"8_422.jpg\" with length 1440 bytes\n",
            "User uploaded file \"8_461.jpg\" with length 1322 bytes\n",
            "User uploaded file \"8_492.jpg\" with length 1208 bytes\n",
            "User uploaded file \"8_493.jpg\" with length 1298 bytes\n",
            "User uploaded file \"8_510.jpg\" with length 1241 bytes\n",
            "User uploaded file \"8_542.jpg\" with length 1248 bytes\n",
            "User uploaded file \"8_560.jpg\" with length 1151 bytes\n",
            "User uploaded file \"8_573.jpg\" with length 1163 bytes\n",
            "User uploaded file \"9_33.jpg\" with length 1341 bytes\n",
            "User uploaded file \"9_157.jpg\" with length 1020 bytes\n",
            "User uploaded file \"9_166.jpg\" with length 1375 bytes\n",
            "User uploaded file \"9_167.jpg\" with length 1321 bytes\n",
            "User uploaded file \"9_211.jpg\" with length 1204 bytes\n",
            "User uploaded file \"9_327.jpg\" with length 1425 bytes\n",
            "User uploaded file \"9_482.jpg\" with length 1208 bytes\n",
            "User uploaded file \"9_489.jpg\" with length 1190 bytes\n",
            "User uploaded file \"9_509.jpg\" with length 1163 bytes\n",
            "User uploaded file \"9_570.jpg\" with length 1192 bytes\n",
            "User uploaded file \"9_574.jpg\" with length 1203 bytes\n",
            "User uploaded file \"9_575.jpg\" with length 1210 bytes\n",
            "User uploaded file \"exp1.jpg\" with length 1144 bytes\n",
            "User uploaded file \"exp34.jpg\" with length 1278 bytes\n",
            "User uploaded file \"exp36.jpg\" with length 1278 bytes\n",
            "User uploaded file \"exp38.jpg\" with length 1278 bytes\n",
            "User uploaded file \"exp129.jpg\" with length 1303 bytes\n",
            "User uploaded file \"exp140.jpg\" with length 1303 bytes\n",
            "User uploaded file \"exp210.jpg\" with length 1350 bytes\n",
            "User uploaded file \"exp220.jpg\" with length 1350 bytes\n",
            "User uploaded file \"exp238.jpg\" with length 1350 bytes\n",
            "User uploaded file \"exp283.jpg\" with length 1398 bytes\n",
            "User uploaded file \"exp286.jpg\" with length 1347 bytes\n",
            "User uploaded file \"exp298.jpg\" with length 1398 bytes\n",
            "User uploaded file \"exp12345.jpg\" with length 863 bytes\n",
            "User uploaded file \"exp12347.jpg\" with length 1044 bytes\n",
            "User uploaded file \"exp12348.jpg\" with length 868 bytes\n",
            "User uploaded file \"exp12350.jpg\" with length 905 bytes\n",
            "User uploaded file \"exp12352.jpg\" with length 836 bytes\n",
            "User uploaded file \"exp12355.jpg\" with length 982 bytes\n",
            "User uploaded file \"exp12357.jpg\" with length 1016 bytes\n",
            "User uploaded file \"exp12360.jpg\" with length 1167 bytes\n",
            "User uploaded file \"exp12363.jpg\" with length 929 bytes\n",
            "User uploaded file \"exp12365.jpg\" with length 1147 bytes\n",
            "User uploaded file \"exp12366.jpg\" with length 727 bytes\n",
            "User uploaded file \"exp12368.jpg\" with length 979 bytes\n"
          ],
          "name": "stdout"
        }
      ]
    },
    {
      "cell_type": "code",
      "metadata": {
        "id": "l8CFRrZHtx4Z",
        "colab": {
          "base_uri": "https://localhost:8080/",
          "height": 229
        },
        "outputId": "51bd6402-dbc7-44d5-8bc2-41c7de8df127"
      },
      "source": [
        "# assign \".\"-11\n",
        "data0=load_images_from_drive(\"https://drive.google.com/drive/folders/1Qc5QGw62nTnjfkwZox262fQzL07eb4tA?usp=sharing\")\n",
        "len(data)\n",
        "for i in range(0,len(data0)):\n",
        "    data0[i]=np.append(data0[i],[\"11\"])\n",
        "data=np.concatenate((data,data0))\n",
        "print(len(data))"
      ],
      "execution_count": null,
      "outputs": [
        {
          "output_type": "error",
          "ename": "NameError",
          "evalue": "ignored",
          "traceback": [
            "\u001b[0;31m---------------------------------------------------------------------------\u001b[0m",
            "\u001b[0;31mNameError\u001b[0m                                 Traceback (most recent call last)",
            "\u001b[0;32m<ipython-input-10-0a78d2506fa6>\u001b[0m in \u001b[0;36m<module>\u001b[0;34m()\u001b[0m\n\u001b[1;32m      1\u001b[0m \u001b[0;31m# assign \".\"-11\u001b[0m\u001b[0;34m\u001b[0m\u001b[0;34m\u001b[0m\u001b[0;34m\u001b[0m\u001b[0m\n\u001b[0;32m----> 2\u001b[0;31m \u001b[0mdata0\u001b[0m\u001b[0;34m=\u001b[0m\u001b[0mload_images_from_drive\u001b[0m\u001b[0;34m(\u001b[0m\u001b[0;34m\"https://drive.google.com/drive/folders/1Qc5QGw62nTnjfkwZox262fQzL07eb4tA?usp=sharing\"\u001b[0m\u001b[0;34m)\u001b[0m\u001b[0;34m\u001b[0m\u001b[0;34m\u001b[0m\u001b[0m\n\u001b[0m\u001b[1;32m      3\u001b[0m \u001b[0mlen\u001b[0m\u001b[0;34m(\u001b[0m\u001b[0mdata\u001b[0m\u001b[0;34m)\u001b[0m\u001b[0;34m\u001b[0m\u001b[0;34m\u001b[0m\u001b[0m\n\u001b[1;32m      4\u001b[0m \u001b[0;32mfor\u001b[0m \u001b[0mi\u001b[0m \u001b[0;32min\u001b[0m \u001b[0mrange\u001b[0m\u001b[0;34m(\u001b[0m\u001b[0;36m0\u001b[0m\u001b[0;34m,\u001b[0m\u001b[0mlen\u001b[0m\u001b[0;34m(\u001b[0m\u001b[0mdata0\u001b[0m\u001b[0;34m)\u001b[0m\u001b[0;34m)\u001b[0m\u001b[0;34m:\u001b[0m\u001b[0;34m\u001b[0m\u001b[0;34m\u001b[0m\u001b[0m\n\u001b[1;32m      5\u001b[0m     \u001b[0mdata0\u001b[0m\u001b[0;34m[\u001b[0m\u001b[0mi\u001b[0m\u001b[0;34m]\u001b[0m\u001b[0;34m=\u001b[0m\u001b[0mnp\u001b[0m\u001b[0;34m.\u001b[0m\u001b[0mappend\u001b[0m\u001b[0;34m(\u001b[0m\u001b[0mdata0\u001b[0m\u001b[0;34m[\u001b[0m\u001b[0mi\u001b[0m\u001b[0;34m]\u001b[0m\u001b[0;34m,\u001b[0m\u001b[0;34m[\u001b[0m\u001b[0;34m\"11\"\u001b[0m\u001b[0;34m]\u001b[0m\u001b[0;34m)\u001b[0m\u001b[0;34m\u001b[0m\u001b[0;34m\u001b[0m\u001b[0m\n",
            "\u001b[0;31mNameError\u001b[0m: name 'load_images_from_drive' is not defined"
          ]
        }
      ]
    },
    {
      "cell_type": "code",
      "metadata": {
        "id": "0kIIOAG2tx4c",
        "outputId": "f1ad483d-ada2-4c6c-b0e4-43b34b4c668e"
      },
      "source": [
        "# assign \".\"-11\n",
        "data1=load_images_from_folder(\"C:/Handwritten-Equation-Solver-master/0\")\n",
        "len(data)\n",
        "for i in range(0,len(data1)):\n",
        "    data1[i]=np.append(data1[i],[\"0\"])\n",
        "data=np.concatenate((data,data1))\n",
        "print(len(data))"
      ],
      "execution_count": null,
      "outputs": [
        {
          "output_type": "stream",
          "text": [
            "3\n"
          ],
          "name": "stdout"
        }
      ]
    },
    {
      "cell_type": "code",
      "metadata": {
        "id": "IT7Kah5Ltx4d",
        "outputId": "374edb93-0cb4-46fb-8c0c-454032e4350b"
      },
      "source": [
        "data2=load_images_from_folder(\"C:/Handwritten-Equation-Solver-master/1\")\n",
        "len(data)\n",
        "for i in range(0,len(data2)):\n",
        "    data2[i]=np.append(data2[i],[\"1\"])\n",
        "data=np.concatenate((data,data2))\n",
        "print(len(data))"
      ],
      "execution_count": null,
      "outputs": [
        {
          "output_type": "stream",
          "text": [
            "4\n"
          ],
          "name": "stdout"
        }
      ]
    },
    {
      "cell_type": "code",
      "metadata": {
        "id": "et2TO-RCtx4i",
        "outputId": "ccc87df7-4e2c-4b05-e05b-626eda426653"
      },
      "source": [
        "data3=load_images_from_folder(\"C:/Handwritten-Equation-Solver-master/2\")\n",
        "len(data)\n",
        "for i in range(0,len(data2)):\n",
        "    data3[i]=np.append(data3[i],[\"2\"])\n",
        "data=np.concatenate((data,data3))\n",
        "print(len(data))"
      ],
      "execution_count": null,
      "outputs": [
        {
          "output_type": "stream",
          "text": [
            "5\n"
          ],
          "name": "stdout"
        }
      ]
    },
    {
      "cell_type": "code",
      "metadata": {
        "id": "pHJCs7Qbtx5L",
        "outputId": "b1f81f5a-2cf6-4353-a633-15523a7bf05b"
      },
      "source": [
        "data4=load_images_from_folder(\"C:/Handwritten-Equation-Solver-master/3\")\n",
        "len(data)\n",
        "for i in range(0,len(data2)):\n",
        "    data4[i]=np.append(data4[i],[\"3\"])\n",
        "data=np.concatenate((data,data4))\n",
        "print(len(data))"
      ],
      "execution_count": null,
      "outputs": [
        {
          "output_type": "stream",
          "text": [
            "6\n"
          ],
          "name": "stdout"
        }
      ]
    },
    {
      "cell_type": "code",
      "metadata": {
        "id": "mzE1wT8vtx5Z",
        "outputId": "5957c208-d638-4251-8d10-603860a45944"
      },
      "source": [
        "data5=load_images_from_folder(\"C:/Handwritten-Equation-Solver-master/4\")\n",
        "len(data)\n",
        "for i in range(0,len(data5)):\n",
        "    data5[i]=np.append(data5[i],[\"4\"])\n",
        "data=np.concatenate((data,data5))\n",
        "print(len(data))"
      ],
      "execution_count": null,
      "outputs": [
        {
          "output_type": "stream",
          "text": [
            "7\n"
          ],
          "name": "stdout"
        }
      ]
    },
    {
      "cell_type": "code",
      "metadata": {
        "id": "6HNNGjAgtx5Z",
        "outputId": "23382e9b-d88f-4c51-f327-bb31ed8ecee2"
      },
      "source": [
        "data6=load_images_from_folder(\"C:/Handwritten-Equation-Solver-master/5\")\n",
        "len(data)\n",
        "for i in range(0,len(data6)):\n",
        "    data6[i]=np.append(data6[i],[\"5\"])\n",
        "data=np.concatenate((data,data6))\n",
        "print(len(data))"
      ],
      "execution_count": null,
      "outputs": [
        {
          "output_type": "stream",
          "text": [
            "8\n"
          ],
          "name": "stdout"
        }
      ]
    },
    {
      "cell_type": "code",
      "metadata": {
        "id": "VSXqmogotx5a",
        "outputId": "ea32ea6d-469b-4260-b2f5-e2a8fbbe57c4"
      },
      "source": [
        "data7=load_images_from_folder(\"C:/Handwritten-Equation-Solver-master/6\")\n",
        "len(data)\n",
        "for i in range(0,len(data7)):\n",
        "    data7[i]=np.append(data7[i],[\"6\"])\n",
        "data=np.concatenate((data,data7))\n",
        "print(len(data))"
      ],
      "execution_count": null,
      "outputs": [
        {
          "output_type": "stream",
          "text": [
            "9\n"
          ],
          "name": "stdout"
        }
      ]
    },
    {
      "cell_type": "code",
      "metadata": {
        "id": "ZzcIKzGLtx5o",
        "outputId": "c15c0b64-a369-4ca3-db1b-2d4b716c5925"
      },
      "source": [
        "data8=load_images_from_folder(\"C:/Handwritten-Equation-Solver-master/7\")\n",
        "len(data)\n",
        "for i in range(0,len(data8)):\n",
        "    data8[i]=np.append(data8[i],[\"7\"])\n",
        "data=np.concatenate((data,data8))\n",
        "print(len(data))"
      ],
      "execution_count": null,
      "outputs": [
        {
          "output_type": "stream",
          "text": [
            "10\n"
          ],
          "name": "stdout"
        }
      ]
    },
    {
      "cell_type": "code",
      "metadata": {
        "id": "7WxNZQIBtx5p",
        "outputId": "5f518791-8f79-48b1-b306-69008675826a"
      },
      "source": [
        "data9=load_images_from_folder(\"C:/Handwritten-Equation-Solver-master/8\")\n",
        "len(data)\n",
        "for i in range(0,len(data9)):\n",
        "    data9[i]=np.append(data9[i],[\"8\"])\n",
        "data=np.concatenate((data,data9))\n",
        "print(len(data))"
      ],
      "execution_count": null,
      "outputs": [
        {
          "output_type": "stream",
          "text": [
            "11\n"
          ],
          "name": "stdout"
        }
      ]
    },
    {
      "cell_type": "code",
      "metadata": {
        "id": "k_XwPEAYtx5q",
        "outputId": "e66c840b-ed83-4b55-8249-625dbf4a047f"
      },
      "source": [
        "data10=load_images_from_folder(\"C:/Handwritten-Equation-Solver-master/9\")\n",
        "len(data)\n",
        "for i in range(0,len(data10)):\n",
        "    data10[i]=np.append(data10[i],[\"9\"])\n",
        "data=np.concatenate((data,data10))\n",
        "print(len(data))"
      ],
      "execution_count": null,
      "outputs": [
        {
          "output_type": "stream",
          "text": [
            "12\n"
          ],
          "name": "stdout"
        }
      ]
    },
    {
      "cell_type": "code",
      "metadata": {
        "id": "yh8UrcDPtx5q",
        "outputId": "630cdd7a-e030-44ff-938b-9194fa653c63"
      },
      "source": [
        "data11=load_images_from_folder(\"C:/Handwritten-Equation-Solver-master/x\")\n",
        "len(data)\n",
        "for i in range(0,len(data11)):\n",
        "    data11[i]=np.append(data11[i],[\"X\"])\n",
        "data=np.concatenate((data,data11))\n",
        "print(len(data))"
      ],
      "execution_count": null,
      "outputs": [
        {
          "output_type": "stream",
          "text": [
            "13\n"
          ],
          "name": "stdout"
        }
      ]
    },
    {
      "cell_type": "code",
      "metadata": {
        "id": "leNgLHYLtx5r"
      },
      "source": [
        "df=pd.DataFrame(data,index=None)\n",
        "df.to_csv('train_final.csv',index=False)"
      ],
      "execution_count": null,
      "outputs": []
    }
  ]
}